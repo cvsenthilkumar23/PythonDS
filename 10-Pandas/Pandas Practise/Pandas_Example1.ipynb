{
 "cells": [
  {
   "cell_type": "code",
   "execution_count": 1,
   "metadata": {},
   "outputs": [],
   "source": [
    "#Import the data\n",
    "import pandas as pd\n",
    "reviews = pd.read_csv(\"ign.csv\")"
   ]
  },
  {
   "cell_type": "code",
   "execution_count": 5,
   "metadata": {},
   "outputs": [],
   "source": [
    "pd.DataFrame.head?"
   ]
  },
  {
   "cell_type": "code",
   "execution_count": 2,
   "metadata": {},
   "outputs": [
    {
     "data": {
      "text/plain": [
       "(18625, 11)"
      ]
     },
     "execution_count": 2,
     "metadata": {},
     "output_type": "execute_result"
    }
   ],
   "source": [
    "reviews.shape"
   ]
  },
  {
   "cell_type": "code",
   "execution_count": 3,
   "metadata": {},
   "outputs": [
    {
     "data": {
      "text/html": [
       "<div>\n",
       "<style scoped>\n",
       "    .dataframe tbody tr th:only-of-type {\n",
       "        vertical-align: middle;\n",
       "    }\n",
       "\n",
       "    .dataframe tbody tr th {\n",
       "        vertical-align: top;\n",
       "    }\n",
       "\n",
       "    .dataframe thead th {\n",
       "        text-align: right;\n",
       "    }\n",
       "</style>\n",
       "<table border=\"1\" class=\"dataframe\">\n",
       "  <thead>\n",
       "    <tr style=\"text-align: right;\">\n",
       "      <th></th>\n",
       "      <th>Unnamed: 0</th>\n",
       "      <th>score_phrase</th>\n",
       "      <th>title</th>\n",
       "      <th>url</th>\n",
       "      <th>platform</th>\n",
       "      <th>score</th>\n",
       "      <th>genre</th>\n",
       "      <th>editors_choice</th>\n",
       "      <th>release_year</th>\n",
       "      <th>release_month</th>\n",
       "      <th>release_day</th>\n",
       "    </tr>\n",
       "  </thead>\n",
       "  <tbody>\n",
       "    <tr>\n",
       "      <th>0</th>\n",
       "      <td>0</td>\n",
       "      <td>Amazing</td>\n",
       "      <td>LittleBigPlanet PS Vita</td>\n",
       "      <td>/games/littlebigplanet-vita/vita-98907</td>\n",
       "      <td>PlayStation Vita</td>\n",
       "      <td>9.0</td>\n",
       "      <td>Platformer</td>\n",
       "      <td>Y</td>\n",
       "      <td>2012</td>\n",
       "      <td>9</td>\n",
       "      <td>12</td>\n",
       "    </tr>\n",
       "    <tr>\n",
       "      <th>1</th>\n",
       "      <td>1</td>\n",
       "      <td>Amazing</td>\n",
       "      <td>LittleBigPlanet PS Vita -- Marvel Super Hero E...</td>\n",
       "      <td>/games/littlebigplanet-ps-vita-marvel-super-he...</td>\n",
       "      <td>PlayStation Vita</td>\n",
       "      <td>9.0</td>\n",
       "      <td>Platformer</td>\n",
       "      <td>Y</td>\n",
       "      <td>2012</td>\n",
       "      <td>9</td>\n",
       "      <td>12</td>\n",
       "    </tr>\n",
       "    <tr>\n",
       "      <th>2</th>\n",
       "      <td>2</td>\n",
       "      <td>Great</td>\n",
       "      <td>Splice: Tree of Life</td>\n",
       "      <td>/games/splice/ipad-141070</td>\n",
       "      <td>iPad</td>\n",
       "      <td>8.5</td>\n",
       "      <td>Puzzle</td>\n",
       "      <td>N</td>\n",
       "      <td>2012</td>\n",
       "      <td>9</td>\n",
       "      <td>12</td>\n",
       "    </tr>\n",
       "    <tr>\n",
       "      <th>3</th>\n",
       "      <td>3</td>\n",
       "      <td>Great</td>\n",
       "      <td>NHL 13</td>\n",
       "      <td>/games/nhl-13/xbox-360-128182</td>\n",
       "      <td>Xbox 360</td>\n",
       "      <td>8.5</td>\n",
       "      <td>Sports</td>\n",
       "      <td>N</td>\n",
       "      <td>2012</td>\n",
       "      <td>9</td>\n",
       "      <td>11</td>\n",
       "    </tr>\n",
       "    <tr>\n",
       "      <th>4</th>\n",
       "      <td>4</td>\n",
       "      <td>Great</td>\n",
       "      <td>NHL 13</td>\n",
       "      <td>/games/nhl-13/ps3-128181</td>\n",
       "      <td>PlayStation 3</td>\n",
       "      <td>8.5</td>\n",
       "      <td>Sports</td>\n",
       "      <td>N</td>\n",
       "      <td>2012</td>\n",
       "      <td>9</td>\n",
       "      <td>11</td>\n",
       "    </tr>\n",
       "    <tr>\n",
       "      <th>5</th>\n",
       "      <td>5</td>\n",
       "      <td>Good</td>\n",
       "      <td>Total War Battles: Shogun</td>\n",
       "      <td>/games/total-war-battles-shogun/mac-142565</td>\n",
       "      <td>Macintosh</td>\n",
       "      <td>7.0</td>\n",
       "      <td>Strategy</td>\n",
       "      <td>N</td>\n",
       "      <td>2012</td>\n",
       "      <td>9</td>\n",
       "      <td>11</td>\n",
       "    </tr>\n",
       "    <tr>\n",
       "      <th>6</th>\n",
       "      <td>6</td>\n",
       "      <td>Awful</td>\n",
       "      <td>Double Dragon: Neon</td>\n",
       "      <td>/games/double-dragon-neon/xbox-360-131320</td>\n",
       "      <td>Xbox 360</td>\n",
       "      <td>3.0</td>\n",
       "      <td>Fighting</td>\n",
       "      <td>N</td>\n",
       "      <td>2012</td>\n",
       "      <td>9</td>\n",
       "      <td>11</td>\n",
       "    </tr>\n",
       "    <tr>\n",
       "      <th>7</th>\n",
       "      <td>7</td>\n",
       "      <td>Amazing</td>\n",
       "      <td>Guild Wars 2</td>\n",
       "      <td>/games/guild-wars-2/pc-896298</td>\n",
       "      <td>PC</td>\n",
       "      <td>9.0</td>\n",
       "      <td>RPG</td>\n",
       "      <td>Y</td>\n",
       "      <td>2012</td>\n",
       "      <td>9</td>\n",
       "      <td>11</td>\n",
       "    </tr>\n",
       "    <tr>\n",
       "      <th>8</th>\n",
       "      <td>8</td>\n",
       "      <td>Awful</td>\n",
       "      <td>Double Dragon: Neon</td>\n",
       "      <td>/games/double-dragon-neon/ps3-131321</td>\n",
       "      <td>PlayStation 3</td>\n",
       "      <td>3.0</td>\n",
       "      <td>Fighting</td>\n",
       "      <td>N</td>\n",
       "      <td>2012</td>\n",
       "      <td>9</td>\n",
       "      <td>11</td>\n",
       "    </tr>\n",
       "    <tr>\n",
       "      <th>9</th>\n",
       "      <td>9</td>\n",
       "      <td>Good</td>\n",
       "      <td>Total War Battles: Shogun</td>\n",
       "      <td>/games/total-war-battles-shogun/pc-142564</td>\n",
       "      <td>PC</td>\n",
       "      <td>7.0</td>\n",
       "      <td>Strategy</td>\n",
       "      <td>N</td>\n",
       "      <td>2012</td>\n",
       "      <td>9</td>\n",
       "      <td>11</td>\n",
       "    </tr>\n",
       "  </tbody>\n",
       "</table>\n",
       "</div>"
      ],
      "text/plain": [
       "   Unnamed: 0 score_phrase                                              title  \\\n",
       "0           0      Amazing                            LittleBigPlanet PS Vita   \n",
       "1           1      Amazing  LittleBigPlanet PS Vita -- Marvel Super Hero E...   \n",
       "2           2        Great                               Splice: Tree of Life   \n",
       "3           3        Great                                             NHL 13   \n",
       "4           4        Great                                             NHL 13   \n",
       "5           5         Good                          Total War Battles: Shogun   \n",
       "6           6        Awful                                Double Dragon: Neon   \n",
       "7           7      Amazing                                       Guild Wars 2   \n",
       "8           8        Awful                                Double Dragon: Neon   \n",
       "9           9         Good                          Total War Battles: Shogun   \n",
       "\n",
       "                                                 url          platform  score  \\\n",
       "0             /games/littlebigplanet-vita/vita-98907  PlayStation Vita    9.0   \n",
       "1  /games/littlebigplanet-ps-vita-marvel-super-he...  PlayStation Vita    9.0   \n",
       "2                          /games/splice/ipad-141070              iPad    8.5   \n",
       "3                      /games/nhl-13/xbox-360-128182          Xbox 360    8.5   \n",
       "4                           /games/nhl-13/ps3-128181     PlayStation 3    8.5   \n",
       "5         /games/total-war-battles-shogun/mac-142565         Macintosh    7.0   \n",
       "6          /games/double-dragon-neon/xbox-360-131320          Xbox 360    3.0   \n",
       "7                      /games/guild-wars-2/pc-896298                PC    9.0   \n",
       "8               /games/double-dragon-neon/ps3-131321     PlayStation 3    3.0   \n",
       "9          /games/total-war-battles-shogun/pc-142564                PC    7.0   \n",
       "\n",
       "        genre editors_choice  release_year  release_month  release_day  \n",
       "0  Platformer              Y          2012              9           12  \n",
       "1  Platformer              Y          2012              9           12  \n",
       "2      Puzzle              N          2012              9           12  \n",
       "3      Sports              N          2012              9           11  \n",
       "4      Sports              N          2012              9           11  \n",
       "5    Strategy              N          2012              9           11  \n",
       "6    Fighting              N          2012              9           11  \n",
       "7         RPG              Y          2012              9           11  \n",
       "8    Fighting              N          2012              9           11  \n",
       "9    Strategy              N          2012              9           11  "
      ]
     },
     "execution_count": 3,
     "metadata": {},
     "output_type": "execute_result"
    }
   ],
   "source": [
    "reviews.head(10)"
   ]
  },
  {
   "cell_type": "code",
   "execution_count": 4,
   "metadata": {},
   "outputs": [
    {
     "data": {
      "text/plain": [
       "RangeIndex(start=0, stop=18625, step=1)"
      ]
     },
     "execution_count": 4,
     "metadata": {},
     "output_type": "execute_result"
    }
   ],
   "source": [
    "reviews.index"
   ]
  },
  {
   "cell_type": "code",
   "execution_count": 6,
   "metadata": {},
   "outputs": [
    {
     "data": {
      "text/plain": [
       "Index(['Unnamed: 0', 'score_phrase', 'title', 'url', 'platform', 'score',\n",
       "       'genre', 'editors_choice', 'release_year', 'release_month',\n",
       "       'release_day'],\n",
       "      dtype='object')"
      ]
     },
     "execution_count": 6,
     "metadata": {},
     "output_type": "execute_result"
    }
   ],
   "source": [
    "reviews.columns"
   ]
  },
  {
   "cell_type": "code",
   "execution_count": 5,
   "metadata": {},
   "outputs": [
    {
     "data": {
      "text/html": [
       "<div>\n",
       "<style scoped>\n",
       "    .dataframe tbody tr th:only-of-type {\n",
       "        vertical-align: middle;\n",
       "    }\n",
       "\n",
       "    .dataframe tbody tr th {\n",
       "        vertical-align: top;\n",
       "    }\n",
       "\n",
       "    .dataframe thead th {\n",
       "        text-align: right;\n",
       "    }\n",
       "</style>\n",
       "<table border=\"1\" class=\"dataframe\">\n",
       "  <thead>\n",
       "    <tr style=\"text-align: right;\">\n",
       "      <th></th>\n",
       "      <th>Unnamed: 0</th>\n",
       "      <th>score_phrase</th>\n",
       "      <th>title</th>\n",
       "      <th>url</th>\n",
       "      <th>platform</th>\n",
       "      <th>score</th>\n",
       "      <th>genre</th>\n",
       "      <th>editors_choice</th>\n",
       "      <th>release_year</th>\n",
       "      <th>release_month</th>\n",
       "      <th>release_day</th>\n",
       "    </tr>\n",
       "  </thead>\n",
       "  <tbody>\n",
       "    <tr>\n",
       "      <th>18620</th>\n",
       "      <td>18620</td>\n",
       "      <td>Good</td>\n",
       "      <td>Tokyo Mirage Sessions #FE</td>\n",
       "      <td>/games/fire-emblem-x-shin-megami-tensei/wii-u-...</td>\n",
       "      <td>Wii U</td>\n",
       "      <td>7.6</td>\n",
       "      <td>RPG</td>\n",
       "      <td>N</td>\n",
       "      <td>2016</td>\n",
       "      <td>6</td>\n",
       "      <td>29</td>\n",
       "    </tr>\n",
       "    <tr>\n",
       "      <th>18621</th>\n",
       "      <td>18621</td>\n",
       "      <td>Amazing</td>\n",
       "      <td>LEGO Star Wars: The Force Awakens</td>\n",
       "      <td>/games/lego-star-wars-the-force-awakens/ps4-20...</td>\n",
       "      <td>PlayStation 4</td>\n",
       "      <td>9.0</td>\n",
       "      <td>Action, Adventure</td>\n",
       "      <td>Y</td>\n",
       "      <td>2016</td>\n",
       "      <td>6</td>\n",
       "      <td>29</td>\n",
       "    </tr>\n",
       "    <tr>\n",
       "      <th>18622</th>\n",
       "      <td>18622</td>\n",
       "      <td>Mediocre</td>\n",
       "      <td>Star Ocean: Integrity and Faithlessness</td>\n",
       "      <td>/games/star-ocean-5/ps4-20035681</td>\n",
       "      <td>PlayStation 4</td>\n",
       "      <td>5.8</td>\n",
       "      <td>RPG</td>\n",
       "      <td>N</td>\n",
       "      <td>2016</td>\n",
       "      <td>6</td>\n",
       "      <td>28</td>\n",
       "    </tr>\n",
       "    <tr>\n",
       "      <th>18623</th>\n",
       "      <td>18623</td>\n",
       "      <td>Masterpiece</td>\n",
       "      <td>Inside</td>\n",
       "      <td>/games/inside-playdead/xbox-one-121435</td>\n",
       "      <td>Xbox One</td>\n",
       "      <td>10.0</td>\n",
       "      <td>Adventure</td>\n",
       "      <td>Y</td>\n",
       "      <td>2016</td>\n",
       "      <td>6</td>\n",
       "      <td>28</td>\n",
       "    </tr>\n",
       "    <tr>\n",
       "      <th>18624</th>\n",
       "      <td>18624</td>\n",
       "      <td>Masterpiece</td>\n",
       "      <td>Inside</td>\n",
       "      <td>/games/inside-playdead/pc-20055740</td>\n",
       "      <td>PC</td>\n",
       "      <td>10.0</td>\n",
       "      <td>Adventure</td>\n",
       "      <td>Y</td>\n",
       "      <td>2016</td>\n",
       "      <td>6</td>\n",
       "      <td>28</td>\n",
       "    </tr>\n",
       "  </tbody>\n",
       "</table>\n",
       "</div>"
      ],
      "text/plain": [
       "       Unnamed: 0 score_phrase                                    title  \\\n",
       "18620       18620         Good                Tokyo Mirage Sessions #FE   \n",
       "18621       18621      Amazing        LEGO Star Wars: The Force Awakens   \n",
       "18622       18622     Mediocre  Star Ocean: Integrity and Faithlessness   \n",
       "18623       18623  Masterpiece                                   Inside   \n",
       "18624       18624  Masterpiece                                   Inside   \n",
       "\n",
       "                                                     url       platform  \\\n",
       "18620  /games/fire-emblem-x-shin-megami-tensei/wii-u-...          Wii U   \n",
       "18621  /games/lego-star-wars-the-force-awakens/ps4-20...  PlayStation 4   \n",
       "18622                   /games/star-ocean-5/ps4-20035681  PlayStation 4   \n",
       "18623             /games/inside-playdead/xbox-one-121435       Xbox One   \n",
       "18624                 /games/inside-playdead/pc-20055740             PC   \n",
       "\n",
       "       score              genre editors_choice  release_year  release_month  \\\n",
       "18620    7.6                RPG              N          2016              6   \n",
       "18621    9.0  Action, Adventure              Y          2016              6   \n",
       "18622    5.8                RPG              N          2016              6   \n",
       "18623   10.0          Adventure              Y          2016              6   \n",
       "18624   10.0          Adventure              Y          2016              6   \n",
       "\n",
       "       release_day  \n",
       "18620           29  \n",
       "18621           29  \n",
       "18622           28  \n",
       "18623           28  \n",
       "18624           28  "
      ]
     },
     "execution_count": 5,
     "metadata": {},
     "output_type": "execute_result"
    }
   ],
   "source": [
    "reviews.tail()"
   ]
  },
  {
   "cell_type": "code",
   "execution_count": 7,
   "metadata": {},
   "outputs": [
    {
     "data": {
      "text/plain": [
       "(18625, 11)"
      ]
     },
     "execution_count": 7,
     "metadata": {},
     "output_type": "execute_result"
    }
   ],
   "source": [
    "reviews.shape"
   ]
  },
  {
   "cell_type": "code",
   "execution_count": 8,
   "metadata": {},
   "outputs": [
    {
     "data": {
      "text/html": [
       "<div>\n",
       "<style scoped>\n",
       "    .dataframe tbody tr th:only-of-type {\n",
       "        vertical-align: middle;\n",
       "    }\n",
       "\n",
       "    .dataframe tbody tr th {\n",
       "        vertical-align: top;\n",
       "    }\n",
       "\n",
       "    .dataframe thead th {\n",
       "        text-align: right;\n",
       "    }\n",
       "</style>\n",
       "<table border=\"1\" class=\"dataframe\">\n",
       "  <thead>\n",
       "    <tr style=\"text-align: right;\">\n",
       "      <th></th>\n",
       "      <th>Unnamed: 0</th>\n",
       "      <th>score_phrase</th>\n",
       "      <th>title</th>\n",
       "      <th>url</th>\n",
       "      <th>platform</th>\n",
       "      <th>score</th>\n",
       "      <th>genre</th>\n",
       "      <th>editors_choice</th>\n",
       "      <th>release_year</th>\n",
       "      <th>release_month</th>\n",
       "      <th>release_day</th>\n",
       "    </tr>\n",
       "  </thead>\n",
       "  <tbody>\n",
       "    <tr>\n",
       "      <th>0</th>\n",
       "      <td>0</td>\n",
       "      <td>Amazing</td>\n",
       "      <td>LittleBigPlanet PS Vita</td>\n",
       "      <td>/games/littlebigplanet-vita/vita-98907</td>\n",
       "      <td>PlayStation Vita</td>\n",
       "      <td>9.0</td>\n",
       "      <td>Platformer</td>\n",
       "      <td>Y</td>\n",
       "      <td>2012</td>\n",
       "      <td>9</td>\n",
       "      <td>12</td>\n",
       "    </tr>\n",
       "    <tr>\n",
       "      <th>1</th>\n",
       "      <td>1</td>\n",
       "      <td>Amazing</td>\n",
       "      <td>LittleBigPlanet PS Vita -- Marvel Super Hero E...</td>\n",
       "      <td>/games/littlebigplanet-ps-vita-marvel-super-he...</td>\n",
       "      <td>PlayStation Vita</td>\n",
       "      <td>9.0</td>\n",
       "      <td>Platformer</td>\n",
       "      <td>Y</td>\n",
       "      <td>2012</td>\n",
       "      <td>9</td>\n",
       "      <td>12</td>\n",
       "    </tr>\n",
       "    <tr>\n",
       "      <th>2</th>\n",
       "      <td>2</td>\n",
       "      <td>Great</td>\n",
       "      <td>Splice: Tree of Life</td>\n",
       "      <td>/games/splice/ipad-141070</td>\n",
       "      <td>iPad</td>\n",
       "      <td>8.5</td>\n",
       "      <td>Puzzle</td>\n",
       "      <td>N</td>\n",
       "      <td>2012</td>\n",
       "      <td>9</td>\n",
       "      <td>12</td>\n",
       "    </tr>\n",
       "    <tr>\n",
       "      <th>3</th>\n",
       "      <td>3</td>\n",
       "      <td>Great</td>\n",
       "      <td>NHL 13</td>\n",
       "      <td>/games/nhl-13/xbox-360-128182</td>\n",
       "      <td>Xbox 360</td>\n",
       "      <td>8.5</td>\n",
       "      <td>Sports</td>\n",
       "      <td>N</td>\n",
       "      <td>2012</td>\n",
       "      <td>9</td>\n",
       "      <td>11</td>\n",
       "    </tr>\n",
       "  </tbody>\n",
       "</table>\n",
       "</div>"
      ],
      "text/plain": [
       "   Unnamed: 0 score_phrase                                              title  \\\n",
       "0           0      Amazing                            LittleBigPlanet PS Vita   \n",
       "1           1      Amazing  LittleBigPlanet PS Vita -- Marvel Super Hero E...   \n",
       "2           2        Great                               Splice: Tree of Life   \n",
       "3           3        Great                                             NHL 13   \n",
       "\n",
       "                                                 url          platform  score  \\\n",
       "0             /games/littlebigplanet-vita/vita-98907  PlayStation Vita    9.0   \n",
       "1  /games/littlebigplanet-ps-vita-marvel-super-he...  PlayStation Vita    9.0   \n",
       "2                          /games/splice/ipad-141070              iPad    8.5   \n",
       "3                      /games/nhl-13/xbox-360-128182          Xbox 360    8.5   \n",
       "\n",
       "        genre editors_choice  release_year  release_month  release_day  \n",
       "0  Platformer              Y          2012              9           12  \n",
       "1  Platformer              Y          2012              9           12  \n",
       "2      Puzzle              N          2012              9           12  \n",
       "3      Sports              N          2012              9           11  "
      ]
     },
     "execution_count": 8,
     "metadata": {},
     "output_type": "execute_result"
    }
   ],
   "source": [
    "reviews.iloc[0:4,:]"
   ]
  },
  {
   "cell_type": "code",
   "execution_count": 9,
   "metadata": {},
   "outputs": [
    {
     "data": {
      "text/html": [
       "<div>\n",
       "<style scoped>\n",
       "    .dataframe tbody tr th:only-of-type {\n",
       "        vertical-align: middle;\n",
       "    }\n",
       "\n",
       "    .dataframe tbody tr th {\n",
       "        vertical-align: top;\n",
       "    }\n",
       "\n",
       "    .dataframe thead th {\n",
       "        text-align: right;\n",
       "    }\n",
       "</style>\n",
       "<table border=\"1\" class=\"dataframe\">\n",
       "  <thead>\n",
       "    <tr style=\"text-align: right;\">\n",
       "      <th></th>\n",
       "      <th>Unnamed: 0</th>\n",
       "      <th>score_phrase</th>\n",
       "    </tr>\n",
       "  </thead>\n",
       "  <tbody>\n",
       "    <tr>\n",
       "      <th>0</th>\n",
       "      <td>0</td>\n",
       "      <td>Amazing</td>\n",
       "    </tr>\n",
       "    <tr>\n",
       "      <th>1</th>\n",
       "      <td>1</td>\n",
       "      <td>Amazing</td>\n",
       "    </tr>\n",
       "    <tr>\n",
       "      <th>2</th>\n",
       "      <td>2</td>\n",
       "      <td>Great</td>\n",
       "    </tr>\n",
       "    <tr>\n",
       "      <th>3</th>\n",
       "      <td>3</td>\n",
       "      <td>Great</td>\n",
       "    </tr>\n",
       "    <tr>\n",
       "      <th>4</th>\n",
       "      <td>4</td>\n",
       "      <td>Great</td>\n",
       "    </tr>\n",
       "  </tbody>\n",
       "</table>\n",
       "</div>"
      ],
      "text/plain": [
       "   Unnamed: 0 score_phrase\n",
       "0           0      Amazing\n",
       "1           1      Amazing\n",
       "2           2        Great\n",
       "3           3        Great\n",
       "4           4        Great"
      ]
     },
     "execution_count": 9,
     "metadata": {},
     "output_type": "execute_result"
    }
   ],
   "source": [
    "reviews.iloc[:5,:2]"
   ]
  },
  {
   "cell_type": "code",
   "execution_count": 10,
   "metadata": {},
   "outputs": [
    {
     "data": {
      "text/html": [
       "<div>\n",
       "<style scoped>\n",
       "    .dataframe tbody tr th:only-of-type {\n",
       "        vertical-align: middle;\n",
       "    }\n",
       "\n",
       "    .dataframe tbody tr th {\n",
       "        vertical-align: top;\n",
       "    }\n",
       "\n",
       "    .dataframe thead th {\n",
       "        text-align: right;\n",
       "    }\n",
       "</style>\n",
       "<table border=\"1\" class=\"dataframe\">\n",
       "  <thead>\n",
       "    <tr style=\"text-align: right;\">\n",
       "      <th></th>\n",
       "      <th>title</th>\n",
       "      <th>url</th>\n",
       "      <th>platform</th>\n",
       "      <th>score</th>\n",
       "      <th>genre</th>\n",
       "    </tr>\n",
       "  </thead>\n",
       "  <tbody>\n",
       "    <tr>\n",
       "      <th>3</th>\n",
       "      <td>NHL 13</td>\n",
       "      <td>/games/nhl-13/xbox-360-128182</td>\n",
       "      <td>Xbox 360</td>\n",
       "      <td>8.5</td>\n",
       "      <td>Sports</td>\n",
       "    </tr>\n",
       "    <tr>\n",
       "      <th>4</th>\n",
       "      <td>NHL 13</td>\n",
       "      <td>/games/nhl-13/ps3-128181</td>\n",
       "      <td>PlayStation 3</td>\n",
       "      <td>8.5</td>\n",
       "      <td>Sports</td>\n",
       "    </tr>\n",
       "    <tr>\n",
       "      <th>5</th>\n",
       "      <td>Total War Battles: Shogun</td>\n",
       "      <td>/games/total-war-battles-shogun/mac-142565</td>\n",
       "      <td>Macintosh</td>\n",
       "      <td>7.0</td>\n",
       "      <td>Strategy</td>\n",
       "    </tr>\n",
       "    <tr>\n",
       "      <th>6</th>\n",
       "      <td>Double Dragon: Neon</td>\n",
       "      <td>/games/double-dragon-neon/xbox-360-131320</td>\n",
       "      <td>Xbox 360</td>\n",
       "      <td>3.0</td>\n",
       "      <td>Fighting</td>\n",
       "    </tr>\n",
       "    <tr>\n",
       "      <th>7</th>\n",
       "      <td>Guild Wars 2</td>\n",
       "      <td>/games/guild-wars-2/pc-896298</td>\n",
       "      <td>PC</td>\n",
       "      <td>9.0</td>\n",
       "      <td>RPG</td>\n",
       "    </tr>\n",
       "    <tr>\n",
       "      <th>8</th>\n",
       "      <td>Double Dragon: Neon</td>\n",
       "      <td>/games/double-dragon-neon/ps3-131321</td>\n",
       "      <td>PlayStation 3</td>\n",
       "      <td>3.0</td>\n",
       "      <td>Fighting</td>\n",
       "    </tr>\n",
       "    <tr>\n",
       "      <th>9</th>\n",
       "      <td>Total War Battles: Shogun</td>\n",
       "      <td>/games/total-war-battles-shogun/pc-142564</td>\n",
       "      <td>PC</td>\n",
       "      <td>7.0</td>\n",
       "      <td>Strategy</td>\n",
       "    </tr>\n",
       "  </tbody>\n",
       "</table>\n",
       "</div>"
      ],
      "text/plain": [
       "                       title                                         url  \\\n",
       "3                     NHL 13               /games/nhl-13/xbox-360-128182   \n",
       "4                     NHL 13                    /games/nhl-13/ps3-128181   \n",
       "5  Total War Battles: Shogun  /games/total-war-battles-shogun/mac-142565   \n",
       "6        Double Dragon: Neon   /games/double-dragon-neon/xbox-360-131320   \n",
       "7               Guild Wars 2               /games/guild-wars-2/pc-896298   \n",
       "8        Double Dragon: Neon        /games/double-dragon-neon/ps3-131321   \n",
       "9  Total War Battles: Shogun   /games/total-war-battles-shogun/pc-142564   \n",
       "\n",
       "        platform  score     genre  \n",
       "3       Xbox 360    8.5    Sports  \n",
       "4  PlayStation 3    8.5    Sports  \n",
       "5      Macintosh    7.0  Strategy  \n",
       "6       Xbox 360    3.0  Fighting  \n",
       "7             PC    9.0       RPG  \n",
       "8  PlayStation 3    3.0  Fighting  \n",
       "9             PC    7.0  Strategy  "
      ]
     },
     "execution_count": 10,
     "metadata": {},
     "output_type": "execute_result"
    }
   ],
   "source": [
    "reviews.loc[3:9,'title':'genre']"
   ]
  },
  {
   "cell_type": "code",
   "execution_count": 15,
   "metadata": {},
   "outputs": [],
   "source": [
    "pd.DataFrame.iat?"
   ]
  },
  {
   "cell_type": "code",
   "execution_count": 14,
   "metadata": {},
   "outputs": [
    {
     "data": {
      "text/html": [
       "<div>\n",
       "<style scoped>\n",
       "    .dataframe tbody tr th:only-of-type {\n",
       "        vertical-align: middle;\n",
       "    }\n",
       "\n",
       "    .dataframe tbody tr th {\n",
       "        vertical-align: top;\n",
       "    }\n",
       "\n",
       "    .dataframe thead th {\n",
       "        text-align: right;\n",
       "    }\n",
       "</style>\n",
       "<table border=\"1\" class=\"dataframe\">\n",
       "  <thead>\n",
       "    <tr style=\"text-align: right;\">\n",
       "      <th></th>\n",
       "      <th>url</th>\n",
       "      <th>release_year</th>\n",
       "    </tr>\n",
       "  </thead>\n",
       "  <tbody>\n",
       "    <tr>\n",
       "      <th>2</th>\n",
       "      <td>/games/splice/ipad-141070</td>\n",
       "      <td>2012</td>\n",
       "    </tr>\n",
       "    <tr>\n",
       "      <th>3</th>\n",
       "      <td>/games/nhl-13/xbox-360-128182</td>\n",
       "      <td>2012</td>\n",
       "    </tr>\n",
       "    <tr>\n",
       "      <th>4</th>\n",
       "      <td>/games/nhl-13/ps3-128181</td>\n",
       "      <td>2012</td>\n",
       "    </tr>\n",
       "    <tr>\n",
       "      <th>5</th>\n",
       "      <td>/games/total-war-battles-shogun/mac-142565</td>\n",
       "      <td>2012</td>\n",
       "    </tr>\n",
       "    <tr>\n",
       "      <th>6</th>\n",
       "      <td>/games/double-dragon-neon/xbox-360-131320</td>\n",
       "      <td>2012</td>\n",
       "    </tr>\n",
       "    <tr>\n",
       "      <th>7</th>\n",
       "      <td>/games/guild-wars-2/pc-896298</td>\n",
       "      <td>2012</td>\n",
       "    </tr>\n",
       "    <tr>\n",
       "      <th>8</th>\n",
       "      <td>/games/double-dragon-neon/ps3-131321</td>\n",
       "      <td>2012</td>\n",
       "    </tr>\n",
       "    <tr>\n",
       "      <th>9</th>\n",
       "      <td>/games/total-war-battles-shogun/pc-142564</td>\n",
       "      <td>2012</td>\n",
       "    </tr>\n",
       "    <tr>\n",
       "      <th>10</th>\n",
       "      <td>/games/tekken-tag-tournament-2/ps3-124584</td>\n",
       "      <td>2012</td>\n",
       "    </tr>\n",
       "  </tbody>\n",
       "</table>\n",
       "</div>"
      ],
      "text/plain": [
       "                                           url  release_year\n",
       "2                    /games/splice/ipad-141070          2012\n",
       "3                /games/nhl-13/xbox-360-128182          2012\n",
       "4                     /games/nhl-13/ps3-128181          2012\n",
       "5   /games/total-war-battles-shogun/mac-142565          2012\n",
       "6    /games/double-dragon-neon/xbox-360-131320          2012\n",
       "7                /games/guild-wars-2/pc-896298          2012\n",
       "8         /games/double-dragon-neon/ps3-131321          2012\n",
       "9    /games/total-war-battles-shogun/pc-142564          2012\n",
       "10   /games/tekken-tag-tournament-2/ps3-124584          2012"
      ]
     },
     "execution_count": 14,
     "metadata": {},
     "output_type": "execute_result"
    }
   ],
   "source": [
    "reviews.loc[2:10,['url','release_year']]"
   ]
  },
  {
   "cell_type": "code",
   "execution_count": 15,
   "metadata": {},
   "outputs": [],
   "source": [
    "some_review = reviews.iloc[10:30,]"
   ]
  },
  {
   "cell_type": "code",
   "execution_count": 16,
   "metadata": {},
   "outputs": [
    {
     "data": {
      "text/html": [
       "<div>\n",
       "<style scoped>\n",
       "    .dataframe tbody tr th:only-of-type {\n",
       "        vertical-align: middle;\n",
       "    }\n",
       "\n",
       "    .dataframe tbody tr th {\n",
       "        vertical-align: top;\n",
       "    }\n",
       "\n",
       "    .dataframe thead th {\n",
       "        text-align: right;\n",
       "    }\n",
       "</style>\n",
       "<table border=\"1\" class=\"dataframe\">\n",
       "  <thead>\n",
       "    <tr style=\"text-align: right;\">\n",
       "      <th></th>\n",
       "      <th>Unnamed: 0</th>\n",
       "      <th>score_phrase</th>\n",
       "      <th>title</th>\n",
       "      <th>url</th>\n",
       "      <th>platform</th>\n",
       "      <th>score</th>\n",
       "      <th>genre</th>\n",
       "      <th>editors_choice</th>\n",
       "      <th>release_year</th>\n",
       "      <th>release_month</th>\n",
       "      <th>release_day</th>\n",
       "    </tr>\n",
       "  </thead>\n",
       "  <tbody>\n",
       "    <tr>\n",
       "      <th>10</th>\n",
       "      <td>10</td>\n",
       "      <td>Good</td>\n",
       "      <td>Tekken Tag Tournament 2</td>\n",
       "      <td>/games/tekken-tag-tournament-2/ps3-124584</td>\n",
       "      <td>PlayStation 3</td>\n",
       "      <td>7.5</td>\n",
       "      <td>Fighting</td>\n",
       "      <td>N</td>\n",
       "      <td>2012</td>\n",
       "      <td>9</td>\n",
       "      <td>11</td>\n",
       "    </tr>\n",
       "    <tr>\n",
       "      <th>11</th>\n",
       "      <td>11</td>\n",
       "      <td>Good</td>\n",
       "      <td>Tekken Tag Tournament 2</td>\n",
       "      <td>/games/tekken-tag-tournament-2/xbox-360-124581</td>\n",
       "      <td>Xbox 360</td>\n",
       "      <td>7.5</td>\n",
       "      <td>Fighting</td>\n",
       "      <td>N</td>\n",
       "      <td>2012</td>\n",
       "      <td>9</td>\n",
       "      <td>11</td>\n",
       "    </tr>\n",
       "    <tr>\n",
       "      <th>12</th>\n",
       "      <td>12</td>\n",
       "      <td>Good</td>\n",
       "      <td>Wild Blood</td>\n",
       "      <td>/games/wild-blood/iphone-139363</td>\n",
       "      <td>iPhone</td>\n",
       "      <td>7.0</td>\n",
       "      <td>NaN</td>\n",
       "      <td>N</td>\n",
       "      <td>2012</td>\n",
       "      <td>9</td>\n",
       "      <td>10</td>\n",
       "    </tr>\n",
       "    <tr>\n",
       "      <th>13</th>\n",
       "      <td>13</td>\n",
       "      <td>Amazing</td>\n",
       "      <td>Mark of the Ninja</td>\n",
       "      <td>/games/mark-of-the-ninja-135615/xbox-360-129276</td>\n",
       "      <td>Xbox 360</td>\n",
       "      <td>9.0</td>\n",
       "      <td>Action, Adventure</td>\n",
       "      <td>Y</td>\n",
       "      <td>2012</td>\n",
       "      <td>9</td>\n",
       "      <td>7</td>\n",
       "    </tr>\n",
       "    <tr>\n",
       "      <th>14</th>\n",
       "      <td>14</td>\n",
       "      <td>Amazing</td>\n",
       "      <td>Mark of the Ninja</td>\n",
       "      <td>/games/mark-of-the-ninja-135615/pc-143761</td>\n",
       "      <td>PC</td>\n",
       "      <td>9.0</td>\n",
       "      <td>Action, Adventure</td>\n",
       "      <td>Y</td>\n",
       "      <td>2012</td>\n",
       "      <td>9</td>\n",
       "      <td>7</td>\n",
       "    </tr>\n",
       "  </tbody>\n",
       "</table>\n",
       "</div>"
      ],
      "text/plain": [
       "    Unnamed: 0 score_phrase                    title  \\\n",
       "10          10         Good  Tekken Tag Tournament 2   \n",
       "11          11         Good  Tekken Tag Tournament 2   \n",
       "12          12         Good               Wild Blood   \n",
       "13          13      Amazing        Mark of the Ninja   \n",
       "14          14      Amazing        Mark of the Ninja   \n",
       "\n",
       "                                                url       platform  score  \\\n",
       "10        /games/tekken-tag-tournament-2/ps3-124584  PlayStation 3    7.5   \n",
       "11   /games/tekken-tag-tournament-2/xbox-360-124581       Xbox 360    7.5   \n",
       "12                  /games/wild-blood/iphone-139363         iPhone    7.0   \n",
       "13  /games/mark-of-the-ninja-135615/xbox-360-129276       Xbox 360    9.0   \n",
       "14        /games/mark-of-the-ninja-135615/pc-143761             PC    9.0   \n",
       "\n",
       "                genre editors_choice  release_year  release_month  release_day  \n",
       "10           Fighting              N          2012              9           11  \n",
       "11           Fighting              N          2012              9           11  \n",
       "12                NaN              N          2012              9           10  \n",
       "13  Action, Adventure              Y          2012              9            7  \n",
       "14  Action, Adventure              Y          2012              9            7  "
      ]
     },
     "execution_count": 16,
     "metadata": {},
     "output_type": "execute_result"
    }
   ],
   "source": [
    "some_review.head()"
   ]
  },
  {
   "cell_type": "code",
   "execution_count": 17,
   "metadata": {},
   "outputs": [
    {
     "data": {
      "text/plain": [
       "RangeIndex(start=10, stop=30, step=1)"
      ]
     },
     "execution_count": 17,
     "metadata": {},
     "output_type": "execute_result"
    }
   ],
   "source": [
    "some_review.index"
   ]
  },
  {
   "cell_type": "code",
   "execution_count": 18,
   "metadata": {},
   "outputs": [
    {
     "data": {
      "text/html": [
       "<div>\n",
       "<style scoped>\n",
       "    .dataframe tbody tr th:only-of-type {\n",
       "        vertical-align: middle;\n",
       "    }\n",
       "\n",
       "    .dataframe tbody tr th {\n",
       "        vertical-align: top;\n",
       "    }\n",
       "\n",
       "    .dataframe thead th {\n",
       "        text-align: right;\n",
       "    }\n",
       "</style>\n",
       "<table border=\"1\" class=\"dataframe\">\n",
       "  <thead>\n",
       "    <tr style=\"text-align: right;\">\n",
       "      <th></th>\n",
       "      <th>Unnamed: 0</th>\n",
       "      <th>score_phrase</th>\n",
       "      <th>title</th>\n",
       "      <th>url</th>\n",
       "      <th>platform</th>\n",
       "      <th>score</th>\n",
       "      <th>genre</th>\n",
       "      <th>editors_choice</th>\n",
       "      <th>release_year</th>\n",
       "      <th>release_month</th>\n",
       "      <th>release_day</th>\n",
       "    </tr>\n",
       "  </thead>\n",
       "  <tbody>\n",
       "    <tr>\n",
       "      <th>12</th>\n",
       "      <td>12</td>\n",
       "      <td>Good</td>\n",
       "      <td>Wild Blood</td>\n",
       "      <td>/games/wild-blood/iphone-139363</td>\n",
       "      <td>iPhone</td>\n",
       "      <td>7.0</td>\n",
       "      <td>NaN</td>\n",
       "      <td>N</td>\n",
       "      <td>2012</td>\n",
       "      <td>9</td>\n",
       "      <td>10</td>\n",
       "    </tr>\n",
       "    <tr>\n",
       "      <th>13</th>\n",
       "      <td>13</td>\n",
       "      <td>Amazing</td>\n",
       "      <td>Mark of the Ninja</td>\n",
       "      <td>/games/mark-of-the-ninja-135615/xbox-360-129276</td>\n",
       "      <td>Xbox 360</td>\n",
       "      <td>9.0</td>\n",
       "      <td>Action, Adventure</td>\n",
       "      <td>Y</td>\n",
       "      <td>2012</td>\n",
       "      <td>9</td>\n",
       "      <td>7</td>\n",
       "    </tr>\n",
       "    <tr>\n",
       "      <th>14</th>\n",
       "      <td>14</td>\n",
       "      <td>Amazing</td>\n",
       "      <td>Mark of the Ninja</td>\n",
       "      <td>/games/mark-of-the-ninja-135615/pc-143761</td>\n",
       "      <td>PC</td>\n",
       "      <td>9.0</td>\n",
       "      <td>Action, Adventure</td>\n",
       "      <td>Y</td>\n",
       "      <td>2012</td>\n",
       "      <td>9</td>\n",
       "      <td>7</td>\n",
       "    </tr>\n",
       "  </tbody>\n",
       "</table>\n",
       "</div>"
      ],
      "text/plain": [
       "    Unnamed: 0 score_phrase              title  \\\n",
       "12          12         Good         Wild Blood   \n",
       "13          13      Amazing  Mark of the Ninja   \n",
       "14          14      Amazing  Mark of the Ninja   \n",
       "\n",
       "                                                url  platform  score  \\\n",
       "12                  /games/wild-blood/iphone-139363    iPhone    7.0   \n",
       "13  /games/mark-of-the-ninja-135615/xbox-360-129276  Xbox 360    9.0   \n",
       "14        /games/mark-of-the-ninja-135615/pc-143761        PC    9.0   \n",
       "\n",
       "                genre editors_choice  release_year  release_month  release_day  \n",
       "12                NaN              N          2012              9           10  \n",
       "13  Action, Adventure              Y          2012              9            7  \n",
       "14  Action, Adventure              Y          2012              9            7  "
      ]
     },
     "execution_count": 18,
     "metadata": {},
     "output_type": "execute_result"
    }
   ],
   "source": [
    "some_review.iloc[2:5,:]"
   ]
  },
  {
   "cell_type": "code",
   "execution_count": 19,
   "metadata": {},
   "outputs": [
    {
     "data": {
      "text/plain": [
       "pandas.core.frame.DataFrame"
      ]
     },
     "execution_count": 19,
     "metadata": {},
     "output_type": "execute_result"
    }
   ],
   "source": [
    "type(some_review)"
   ]
  },
  {
   "cell_type": "code",
   "execution_count": 20,
   "metadata": {},
   "outputs": [
    {
     "data": {
      "text/plain": [
       "pandas.core.series.Series"
      ]
     },
     "execution_count": 20,
     "metadata": {},
     "output_type": "execute_result"
    }
   ],
   "source": [
    "type(some_review[\"score\"])"
   ]
  },
  {
   "cell_type": "code",
   "execution_count": 22,
   "metadata": {},
   "outputs": [
    {
     "data": {
      "text/plain": [
       "12    7.0\n",
       "Name: score, dtype: float64"
      ]
     },
     "execution_count": 22,
     "metadata": {},
     "output_type": "execute_result"
    }
   ],
   "source": [
    "a = some_review[\"score\"]\n",
    "a.iloc[2:3]"
   ]
  },
  {
   "cell_type": "code",
   "execution_count": 23,
   "metadata": {},
   "outputs": [
    {
     "data": {
      "text/plain": [
       "10    7.5\n",
       "11    7.5\n",
       "12    7.0\n",
       "13    9.0\n",
       "14    9.0\n",
       "Name: score, dtype: float64"
      ]
     },
     "execution_count": 23,
     "metadata": {},
     "output_type": "execute_result"
    }
   ],
   "source": [
    "a.head()"
   ]
  },
  {
   "cell_type": "code",
   "execution_count": 24,
   "metadata": {},
   "outputs": [
    {
     "data": {
      "text/plain": [
       "7.5"
      ]
     },
     "execution_count": 24,
     "metadata": {},
     "output_type": "execute_result"
    }
   ],
   "source": [
    "a.mean()"
   ]
  },
  {
   "cell_type": "code",
   "execution_count": 25,
   "metadata": {},
   "outputs": [
    {
     "data": {
      "text/plain": [
       "Unnamed: 0       9312.000000\n",
       "score               6.950459\n",
       "release_year     2006.515329\n",
       "release_month       7.138470\n",
       "release_day        15.603866\n",
       "dtype: float64"
      ]
     },
     "execution_count": 25,
     "metadata": {},
     "output_type": "execute_result"
    }
   ],
   "source": [
    "reviews.mean(axis = 0)"
   ]
  },
  {
   "cell_type": "code",
   "execution_count": 26,
   "metadata": {},
   "outputs": [
    {
     "data": {
      "text/plain": [
       "Unnamed: 0                              18624\n",
       "score_phrase                       Unbearable\n",
       "title                 xXx: State of the Union\n",
       "url               /games/zusar-vasar/dc-13794\n",
       "platform                                 iPod\n",
       "score                                      10\n",
       "editors_choice                              Y\n",
       "release_year                             2016\n",
       "release_month                              12\n",
       "release_day                                31\n",
       "dtype: object"
      ]
     },
     "execution_count": 26,
     "metadata": {},
     "output_type": "execute_result"
    }
   ],
   "source": [
    "reviews.max()"
   ]
  },
  {
   "cell_type": "code",
   "execution_count": 27,
   "metadata": {},
   "outputs": [
    {
     "data": {
      "text/plain": [
       "Unnamed: 0                                             0\n",
       "score_phrase                                     Amazing\n",
       "title                                             #IDARB\n",
       "url               /games/0-d-beat-drop/xbox-360-14342395\n",
       "platform                                         Android\n",
       "score                                                0.5\n",
       "editors_choice                                         N\n",
       "release_year                                        1970\n",
       "release_month                                          1\n",
       "release_day                                            1\n",
       "dtype: object"
      ]
     },
     "execution_count": 27,
     "metadata": {},
     "output_type": "execute_result"
    }
   ],
   "source": [
    "reviews.min()"
   ]
  },
  {
   "cell_type": "code",
   "execution_count": 28,
   "metadata": {},
   "outputs": [
    {
     "data": {
      "text/plain": [
       "Unnamed: 0       9312.0\n",
       "score               7.3\n",
       "release_year     2007.0\n",
       "release_month       8.0\n",
       "release_day        16.0\n",
       "dtype: float64"
      ]
     },
     "execution_count": 28,
     "metadata": {},
     "output_type": "execute_result"
    }
   ],
   "source": [
    "reviews.median()"
   ]
  },
  {
   "cell_type": "code",
   "execution_count": 29,
   "metadata": {},
   "outputs": [
    {
     "data": {
      "text/plain": [
       "Unnamed: 0       5376.718717\n",
       "score               1.711736\n",
       "release_year        4.587529\n",
       "release_month       3.476710\n",
       "release_day         8.690128\n",
       "dtype: float64"
      ]
     },
     "execution_count": 29,
     "metadata": {},
     "output_type": "execute_result"
    }
   ],
   "source": [
    "reviews.std()"
   ]
  },
  {
   "cell_type": "code",
   "execution_count": 30,
   "metadata": {},
   "outputs": [
    {
     "data": {
      "text/plain": [
       "Unnamed: 0        18625\n",
       "score_phrase      18625\n",
       "title             18625\n",
       "url               18625\n",
       "platform          18625\n",
       "score             18625\n",
       "genre             18589\n",
       "editors_choice    18625\n",
       "release_year      18625\n",
       "release_month     18625\n",
       "release_day       18625\n",
       "dtype: int64"
      ]
     },
     "execution_count": 30,
     "metadata": {},
     "output_type": "execute_result"
    }
   ],
   "source": [
    "reviews.count()"
   ]
  },
  {
   "cell_type": "code",
   "execution_count": 31,
   "metadata": {},
   "outputs": [
    {
     "data": {
      "text/plain": [
       "0        4.50\n",
       "1        4.50\n",
       "2        4.25\n",
       "3        4.25\n",
       "4        4.25\n",
       "5        3.50\n",
       "6        1.50\n",
       "7        4.50\n",
       "8        1.50\n",
       "9        3.50\n",
       "10       3.75\n",
       "11       3.75\n",
       "12       3.50\n",
       "13       4.50\n",
       "14       4.50\n",
       "15       3.25\n",
       "16       3.25\n",
       "17       4.00\n",
       "18       2.75\n",
       "19       3.50\n",
       "20       3.50\n",
       "21       3.75\n",
       "22       3.75\n",
       "23       3.75\n",
       "24       4.50\n",
       "25       3.50\n",
       "26       4.50\n",
       "27       3.75\n",
       "28       4.00\n",
       "29       3.25\n",
       "         ... \n",
       "18595    2.20\n",
       "18596    3.25\n",
       "18597    2.45\n",
       "18598    3.40\n",
       "18599    3.50\n",
       "18600    3.70\n",
       "18601    3.70\n",
       "18602    3.70\n",
       "18603    3.90\n",
       "18604    4.30\n",
       "18605    3.00\n",
       "18606    3.20\n",
       "18607    3.50\n",
       "18608    2.70\n",
       "18609    4.00\n",
       "18610    3.00\n",
       "18611    2.90\n",
       "18612    3.90\n",
       "18613    4.00\n",
       "18614    4.60\n",
       "18615    4.60\n",
       "18616    3.75\n",
       "18617    4.20\n",
       "18618    4.55\n",
       "18619    3.95\n",
       "18620    3.80\n",
       "18621    4.50\n",
       "18622    2.90\n",
       "18623    5.00\n",
       "18624    5.00\n",
       "Name: score, Length: 18625, dtype: float64"
      ]
     },
     "execution_count": 31,
     "metadata": {},
     "output_type": "execute_result"
    }
   ],
   "source": [
    "reviews[\"score\"]/2"
   ]
  },
  {
   "cell_type": "code",
   "execution_count": 32,
   "metadata": {},
   "outputs": [],
   "source": [
    "score_filter = reviews[\"score\"] > 7"
   ]
  },
  {
   "cell_type": "code",
   "execution_count": 33,
   "metadata": {},
   "outputs": [
    {
     "data": {
      "text/plain": [
       "0         True\n",
       "1         True\n",
       "2         True\n",
       "3         True\n",
       "4         True\n",
       "5        False\n",
       "6        False\n",
       "7         True\n",
       "8        False\n",
       "9        False\n",
       "10        True\n",
       "11        True\n",
       "12       False\n",
       "13        True\n",
       "14        True\n",
       "15       False\n",
       "16       False\n",
       "17        True\n",
       "18       False\n",
       "19       False\n",
       "20       False\n",
       "21        True\n",
       "22        True\n",
       "23        True\n",
       "24        True\n",
       "25       False\n",
       "26        True\n",
       "27        True\n",
       "28        True\n",
       "29       False\n",
       "         ...  \n",
       "18595    False\n",
       "18596    False\n",
       "18597    False\n",
       "18598    False\n",
       "18599    False\n",
       "18600     True\n",
       "18601     True\n",
       "18602     True\n",
       "18603     True\n",
       "18604     True\n",
       "18605    False\n",
       "18606    False\n",
       "18607    False\n",
       "18608    False\n",
       "18609     True\n",
       "18610    False\n",
       "18611    False\n",
       "18612     True\n",
       "18613     True\n",
       "18614     True\n",
       "18615     True\n",
       "18616     True\n",
       "18617     True\n",
       "18618     True\n",
       "18619     True\n",
       "18620     True\n",
       "18621     True\n",
       "18622    False\n",
       "18623     True\n",
       "18624     True\n",
       "Name: score, Length: 18625, dtype: bool"
      ]
     },
     "execution_count": 33,
     "metadata": {},
     "output_type": "execute_result"
    }
   ],
   "source": [
    "score_filter"
   ]
  },
  {
   "cell_type": "code",
   "execution_count": 34,
   "metadata": {},
   "outputs": [],
   "source": [
    "filtered_score_dataframe = reviews[score_filter]"
   ]
  },
  {
   "cell_type": "code",
   "execution_count": 35,
   "metadata": {},
   "outputs": [
    {
     "data": {
      "text/html": [
       "<div>\n",
       "<style scoped>\n",
       "    .dataframe tbody tr th:only-of-type {\n",
       "        vertical-align: middle;\n",
       "    }\n",
       "\n",
       "    .dataframe tbody tr th {\n",
       "        vertical-align: top;\n",
       "    }\n",
       "\n",
       "    .dataframe thead th {\n",
       "        text-align: right;\n",
       "    }\n",
       "</style>\n",
       "<table border=\"1\" class=\"dataframe\">\n",
       "  <thead>\n",
       "    <tr style=\"text-align: right;\">\n",
       "      <th></th>\n",
       "      <th>Unnamed: 0</th>\n",
       "      <th>score_phrase</th>\n",
       "      <th>title</th>\n",
       "      <th>url</th>\n",
       "      <th>platform</th>\n",
       "      <th>score</th>\n",
       "      <th>genre</th>\n",
       "      <th>editors_choice</th>\n",
       "      <th>release_year</th>\n",
       "      <th>release_month</th>\n",
       "      <th>release_day</th>\n",
       "    </tr>\n",
       "  </thead>\n",
       "  <tbody>\n",
       "    <tr>\n",
       "      <th>0</th>\n",
       "      <td>0</td>\n",
       "      <td>Amazing</td>\n",
       "      <td>LittleBigPlanet PS Vita</td>\n",
       "      <td>/games/littlebigplanet-vita/vita-98907</td>\n",
       "      <td>PlayStation Vita</td>\n",
       "      <td>9.0</td>\n",
       "      <td>Platformer</td>\n",
       "      <td>Y</td>\n",
       "      <td>2012</td>\n",
       "      <td>9</td>\n",
       "      <td>12</td>\n",
       "    </tr>\n",
       "    <tr>\n",
       "      <th>1</th>\n",
       "      <td>1</td>\n",
       "      <td>Amazing</td>\n",
       "      <td>LittleBigPlanet PS Vita -- Marvel Super Hero E...</td>\n",
       "      <td>/games/littlebigplanet-ps-vita-marvel-super-he...</td>\n",
       "      <td>PlayStation Vita</td>\n",
       "      <td>9.0</td>\n",
       "      <td>Platformer</td>\n",
       "      <td>Y</td>\n",
       "      <td>2012</td>\n",
       "      <td>9</td>\n",
       "      <td>12</td>\n",
       "    </tr>\n",
       "    <tr>\n",
       "      <th>2</th>\n",
       "      <td>2</td>\n",
       "      <td>Great</td>\n",
       "      <td>Splice: Tree of Life</td>\n",
       "      <td>/games/splice/ipad-141070</td>\n",
       "      <td>iPad</td>\n",
       "      <td>8.5</td>\n",
       "      <td>Puzzle</td>\n",
       "      <td>N</td>\n",
       "      <td>2012</td>\n",
       "      <td>9</td>\n",
       "      <td>12</td>\n",
       "    </tr>\n",
       "    <tr>\n",
       "      <th>3</th>\n",
       "      <td>3</td>\n",
       "      <td>Great</td>\n",
       "      <td>NHL 13</td>\n",
       "      <td>/games/nhl-13/xbox-360-128182</td>\n",
       "      <td>Xbox 360</td>\n",
       "      <td>8.5</td>\n",
       "      <td>Sports</td>\n",
       "      <td>N</td>\n",
       "      <td>2012</td>\n",
       "      <td>9</td>\n",
       "      <td>11</td>\n",
       "    </tr>\n",
       "    <tr>\n",
       "      <th>4</th>\n",
       "      <td>4</td>\n",
       "      <td>Great</td>\n",
       "      <td>NHL 13</td>\n",
       "      <td>/games/nhl-13/ps3-128181</td>\n",
       "      <td>PlayStation 3</td>\n",
       "      <td>8.5</td>\n",
       "      <td>Sports</td>\n",
       "      <td>N</td>\n",
       "      <td>2012</td>\n",
       "      <td>9</td>\n",
       "      <td>11</td>\n",
       "    </tr>\n",
       "  </tbody>\n",
       "</table>\n",
       "</div>"
      ],
      "text/plain": [
       "   Unnamed: 0 score_phrase                                              title  \\\n",
       "0           0      Amazing                            LittleBigPlanet PS Vita   \n",
       "1           1      Amazing  LittleBigPlanet PS Vita -- Marvel Super Hero E...   \n",
       "2           2        Great                               Splice: Tree of Life   \n",
       "3           3        Great                                             NHL 13   \n",
       "4           4        Great                                             NHL 13   \n",
       "\n",
       "                                                 url          platform  score  \\\n",
       "0             /games/littlebigplanet-vita/vita-98907  PlayStation Vita    9.0   \n",
       "1  /games/littlebigplanet-ps-vita-marvel-super-he...  PlayStation Vita    9.0   \n",
       "2                          /games/splice/ipad-141070              iPad    8.5   \n",
       "3                      /games/nhl-13/xbox-360-128182          Xbox 360    8.5   \n",
       "4                           /games/nhl-13/ps3-128181     PlayStation 3    8.5   \n",
       "\n",
       "        genre editors_choice  release_year  release_month  release_day  \n",
       "0  Platformer              Y          2012              9           12  \n",
       "1  Platformer              Y          2012              9           12  \n",
       "2      Puzzle              N          2012              9           12  \n",
       "3      Sports              N          2012              9           11  \n",
       "4      Sports              N          2012              9           11  "
      ]
     },
     "execution_count": 35,
     "metadata": {},
     "output_type": "execute_result"
    }
   ],
   "source": [
    "filtered_score_dataframe.head()"
   ]
  },
  {
   "cell_type": "code",
   "execution_count": 36,
   "metadata": {},
   "outputs": [
    {
     "data": {
      "text/plain": [
       "0    True\n",
       "1    True\n",
       "2    True\n",
       "3    True\n",
       "4    True\n",
       "dtype: bool"
      ]
     },
     "execution_count": 36,
     "metadata": {},
     "output_type": "execute_result"
    }
   ],
   "source": [
    "playstations_filter = (reviews[\"score\"] > 7) | (reviews[\"platform\"] == \"PlayStation 3\")\n",
    "playstations_filter.head()"
   ]
  },
  {
   "cell_type": "code",
   "execution_count": 90,
   "metadata": {
    "collapsed": true
   },
   "outputs": [],
   "source": [
    "playstations_filter_data = reviews[playstations_filter]"
   ]
  },
  {
   "cell_type": "code",
   "execution_count": 92,
   "metadata": {},
   "outputs": [
    {
     "data": {
      "text/html": [
       "<div>\n",
       "<style scoped>\n",
       "    .dataframe tbody tr th:only-of-type {\n",
       "        vertical-align: middle;\n",
       "    }\n",
       "\n",
       "    .dataframe tbody tr th {\n",
       "        vertical-align: top;\n",
       "    }\n",
       "\n",
       "    .dataframe thead th {\n",
       "        text-align: right;\n",
       "    }\n",
       "</style>\n",
       "<table border=\"1\" class=\"dataframe\">\n",
       "  <thead>\n",
       "    <tr style=\"text-align: right;\">\n",
       "      <th></th>\n",
       "      <th>Unnamed: 0</th>\n",
       "      <th>score_phrase</th>\n",
       "      <th>title</th>\n",
       "      <th>url</th>\n",
       "      <th>platform</th>\n",
       "      <th>score</th>\n",
       "      <th>genre</th>\n",
       "      <th>editors_choice</th>\n",
       "      <th>release_year</th>\n",
       "      <th>release_month</th>\n",
       "      <th>release_day</th>\n",
       "    </tr>\n",
       "  </thead>\n",
       "  <tbody>\n",
       "    <tr>\n",
       "      <th>4</th>\n",
       "      <td>4</td>\n",
       "      <td>Great</td>\n",
       "      <td>NHL 13</td>\n",
       "      <td>/games/nhl-13/ps3-128181</td>\n",
       "      <td>PlayStation 3</td>\n",
       "      <td>8.5</td>\n",
       "      <td>Sports</td>\n",
       "      <td>N</td>\n",
       "      <td>2012</td>\n",
       "      <td>9</td>\n",
       "      <td>11</td>\n",
       "    </tr>\n",
       "    <tr>\n",
       "      <th>10</th>\n",
       "      <td>10</td>\n",
       "      <td>Good</td>\n",
       "      <td>Tekken Tag Tournament 2</td>\n",
       "      <td>/games/tekken-tag-tournament-2/ps3-124584</td>\n",
       "      <td>PlayStation 3</td>\n",
       "      <td>7.5</td>\n",
       "      <td>Fighting</td>\n",
       "      <td>N</td>\n",
       "      <td>2012</td>\n",
       "      <td>9</td>\n",
       "      <td>11</td>\n",
       "    </tr>\n",
       "    <tr>\n",
       "      <th>22</th>\n",
       "      <td>22</td>\n",
       "      <td>Good</td>\n",
       "      <td>Mass Effect 3: Leviathan</td>\n",
       "      <td>/games/mass-effect-3-leviathan/ps3-138915</td>\n",
       "      <td>PlayStation 3</td>\n",
       "      <td>7.5</td>\n",
       "      <td>RPG</td>\n",
       "      <td>N</td>\n",
       "      <td>2012</td>\n",
       "      <td>8</td>\n",
       "      <td>31</td>\n",
       "    </tr>\n",
       "    <tr>\n",
       "      <th>39</th>\n",
       "      <td>39</td>\n",
       "      <td>Amazing</td>\n",
       "      <td>The Walking Dead: The Game -- Episode 3: Long ...</td>\n",
       "      <td>/games/the-walking-dead-season-1-episode-3/ps3...</td>\n",
       "      <td>PlayStation 3</td>\n",
       "      <td>9.0</td>\n",
       "      <td>Adventure</td>\n",
       "      <td>Y</td>\n",
       "      <td>2012</td>\n",
       "      <td>8</td>\n",
       "      <td>28</td>\n",
       "    </tr>\n",
       "    <tr>\n",
       "      <th>42</th>\n",
       "      <td>42</td>\n",
       "      <td>Great</td>\n",
       "      <td>Worms Revolution</td>\n",
       "      <td>/games/worms-revolution/ps3-131184</td>\n",
       "      <td>PlayStation 3</td>\n",
       "      <td>8.5</td>\n",
       "      <td>Strategy</td>\n",
       "      <td>N</td>\n",
       "      <td>2012</td>\n",
       "      <td>10</td>\n",
       "      <td>2</td>\n",
       "    </tr>\n",
       "  </tbody>\n",
       "</table>\n",
       "</div>"
      ],
      "text/plain": [
       "    Unnamed: 0 score_phrase  \\\n",
       "4            4        Great   \n",
       "10          10         Good   \n",
       "22          22         Good   \n",
       "39          39      Amazing   \n",
       "42          42        Great   \n",
       "\n",
       "                                                title  \\\n",
       "4                                              NHL 13   \n",
       "10                            Tekken Tag Tournament 2   \n",
       "22                           Mass Effect 3: Leviathan   \n",
       "39  The Walking Dead: The Game -- Episode 3: Long ...   \n",
       "42                                   Worms Revolution   \n",
       "\n",
       "                                                  url       platform  score  \\\n",
       "4                            /games/nhl-13/ps3-128181  PlayStation 3    8.5   \n",
       "10          /games/tekken-tag-tournament-2/ps3-124584  PlayStation 3    7.5   \n",
       "22          /games/mass-effect-3-leviathan/ps3-138915  PlayStation 3    7.5   \n",
       "39  /games/the-walking-dead-season-1-episode-3/ps3...  PlayStation 3    9.0   \n",
       "42                 /games/worms-revolution/ps3-131184  PlayStation 3    8.5   \n",
       "\n",
       "        genre editors_choice  release_year  release_month  release_day  \n",
       "4      Sports              N          2012              9           11  \n",
       "10   Fighting              N          2012              9           11  \n",
       "22        RPG              N          2012              8           31  \n",
       "39  Adventure              Y          2012              8           28  \n",
       "42   Strategy              N          2012             10            2  "
      ]
     },
     "execution_count": 92,
     "metadata": {},
     "output_type": "execute_result"
    }
   ],
   "source": [
    "playstations_filter_data.head()"
   ]
  },
  {
   "cell_type": "code",
   "execution_count": 37,
   "metadata": {},
   "outputs": [],
   "source": [
    "%matplotlib inline\n",
    "import matplotlib"
   ]
  },
  {
   "cell_type": "code",
   "execution_count": 38,
   "metadata": {},
   "outputs": [
    {
     "data": {
      "text/plain": [
       "<matplotlib.axes._subplots.AxesSubplot at 0x2441c610438>"
      ]
     },
     "execution_count": 38,
     "metadata": {},
     "output_type": "execute_result"
    },
    {
     "data": {
      "image/png": "[encoded data removed]",
      "text/plain": [
       "<Figure size 432x288 with 1 Axes>"
      ]
     },
     "metadata": {},
     "output_type": "display_data"
    }
   ],
   "source": [
    "reviews[reviews[\"platform\"] == \"PlayStation 3\"][\"score\"].plot(kind = \"hist\") #histogram"
   ]
  },
  {
   "cell_type": "code",
   "execution_count": 39,
   "metadata": {},
   "outputs": [
    {
     "data": {
      "text/plain": [
       "<matplotlib.axes._subplots.AxesSubplot at 0x2441cb7dc18>"
      ]
     },
     "execution_count": 39,
     "metadata": {},
     "output_type": "execute_result"
    },
    {
     "data": {
      "image/png": "[encoded data removed]",
      "text/plain": [
       "<Figure size 432x288 with 1 Axes>"
      ]
     },
     "metadata": {},
     "output_type": "display_data"
    }
   ],
   "source": [
    "reviews[reviews[\"platform\"] == \"Xbox 360\"][\"score\"].plot(kind = \"hist\")"
   ]
  },
  {
   "cell_type": "code",
   "execution_count": 41,
   "metadata": {},
   "outputs": [
    {
     "data": {
      "text/plain": [
       "<matplotlib.axes._subplots.AxesSubplot at 0x2441cb82e10>"
      ]
     },
     "execution_count": 41,
     "metadata": {},
     "output_type": "execute_result"
    },
    {
     "data": {
      "image/png": "[encoded data removed]",
      "text/plain": [
       "<Figure size 432x288 with 1 Axes>"
      ]
     },
     "metadata": {},
     "output_type": "display_data"
    }
   ],
   "source": [
    "reviews[reviews[\"platform\"] == \"iPad\"][\"score\"].plot(kind = \"hist\")"
   ]
  },
  {
   "cell_type": "code",
   "execution_count": 44,
   "metadata": {},
   "outputs": [],
   "source": [
    "pd.DataFrame.plot?"
   ]
  }
 ],
 "metadata": {
  "kernelspec": {
   "display_name": "Python 3",
   "language": "python",
   "name": "python3"
  },
  "language_info": {
   "codemirror_mode": {
    "name": "ipython",
    "version": 3
   },
   "file_extension": ".py",
   "mimetype": "text/x-python",
   "name": "python",
   "nbconvert_exporter": "python",
   "pygments_lexer": "ipython3",
   "version": "3.6.5"
  }
 },
 "nbformat": 4,
 "nbformat_minor": 2
}
