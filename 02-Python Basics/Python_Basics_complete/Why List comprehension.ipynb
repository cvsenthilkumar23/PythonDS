{
 "cells": [
  {
   "cell_type": "markdown",
   "metadata": {},
   "source": [
    "The speed of list comprehensions is notably better than for-loops when appending items to the list.\n",
    "\n",
    "List comprehensions perform better here because you don’t need to load the append attribute off of the list and call it as a function. Instead, in a comprehension, a specialized LIST_APPEND bytecode is generated for a fast append onto the result list."
   ]
  },
  {
   "cell_type": "markdown",
   "metadata": {},
   "source": [
    "Another way to speed up loops is to remove the looping stucture altogether. ... List comprehension is faster because it is optimized for the Python interpreter to spot a predictable pattern during looping. Besides the syntactic benefit of list comprehensions, they are often as fast or faster than equivalent use of map .\n"
   ]
  },
  {
   "cell_type": "code",
   "execution_count": 1,
   "metadata": {},
   "outputs": [
    {
     "name": "stdout",
     "output_type": "stream",
     "text": [
      "List Comprehension 0.35350608825683594\n",
      "For Loop  0.7895898818969727\n"
     ]
    }
   ],
   "source": [
    "import time\n",
    "a = [1, 2, 3, 4, 5]\n",
    "start = time.time()\n",
    "for i in range(0, 500000):\n",
    "    a = [value if value % 2 == 1 else value * 1 for value in a]\n",
    "end = time.time()\n",
    "print(\"List Comprehension\",end - start)\n",
    "start = time.time()\n",
    "for i in range(0, 500000):\n",
    "    for j in range(len(a)):\n",
    "        if a[j] % 2 == 1:\n",
    "            a[j] = a[j]\n",
    "        else:\n",
    "            a[j] = a[j] * 1\n",
    "end = time.time()\n",
    "print(\"For Loop \",end - start)"
   ]
  }
 ],
 "metadata": {
  "kernelspec": {
   "display_name": "Python 3",
   "language": "python",
   "name": "python3"
  },
  "language_info": {
   "codemirror_mode": {
    "name": "ipython",
    "version": 3
   },
   "file_extension": ".py",
   "mimetype": "text/x-python",
   "name": "python",
   "nbconvert_exporter": "python",
   "pygments_lexer": "ipython3",
   "version": "3.6.4"
  }
 },
 "nbformat": 4,
 "nbformat_minor": 2
}
